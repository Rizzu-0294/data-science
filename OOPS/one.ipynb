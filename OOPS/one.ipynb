{
 "cells": [
  {
   "cell_type": "markdown",
   "metadata": {},
   "source": [
    "PolyMorphism\n"
   ]
  },
  {
   "cell_type": "code",
   "execution_count": 5,
   "metadata": {},
   "outputs": [
    {
     "ename": "TypeError",
     "evalue": "Same.area() missing 2 required positional arguments: 'pi' and 'r'",
     "output_type": "error",
     "traceback": [
      "\u001b[1;31m---------------------------------------------------------------------------\u001b[0m",
      "\u001b[1;31mTypeError\u001b[0m                                 Traceback (most recent call last)",
      "Cell \u001b[1;32mIn[5], line 13\u001b[0m\n\u001b[0;32m     10\u001b[0m         \u001b[38;5;28mprint\u001b[39m(\u001b[38;5;124mf\u001b[39m\u001b[38;5;124m\"\u001b[39m\u001b[38;5;124marea of circle is \u001b[39m\u001b[38;5;132;01m{\u001b[39;00mpi\u001b[38;5;241m*\u001b[39mr\u001b[38;5;241m*\u001b[39mr\u001b[38;5;132;01m}\u001b[39;00m\u001b[38;5;124m\"\u001b[39m)\n\u001b[0;32m     12\u001b[0m s\u001b[38;5;241m=\u001b[39mSame()\n\u001b[1;32m---> 13\u001b[0m \u001b[43ms\u001b[49m\u001b[38;5;241;43m.\u001b[39;49m\u001b[43marea\u001b[49m\u001b[43m(\u001b[49m\u001b[43m)\u001b[49m\n\u001b[0;32m     14\u001b[0m s\u001b[38;5;241m.\u001b[39marea()\n",
      "\u001b[1;31mTypeError\u001b[0m: Same.area() missing 2 required positional arguments: 'pi' and 'r'"
     ]
    }
   ],
   "source": [
    "class Same:\n",
    "    def area(self,l,b):\n",
    "        print(\"area of rectangle\",self.l*self.b)\n",
    "    \n",
    "    def area(self,pi,r):\n",
    "        print(f\"area of circle is {self.pi*self.r*self.r}\")\n",
    "\n",
    "s=Same()\n",
    "s.area(6,7)\n",
    "s.area(3.14,5)"
   ]
  }
 ],
 "metadata": {
  "kernelspec": {
   "display_name": "Python 3",
   "language": "python",
   "name": "python3"
  },
  "language_info": {
   "codemirror_mode": {
    "name": "ipython",
    "version": 3
   },
   "file_extension": ".py",
   "mimetype": "text/x-python",
   "name": "python",
   "nbconvert_exporter": "python",
   "pygments_lexer": "ipython3",
   "version": "3.12.1"
  }
 },
 "nbformat": 4,
 "nbformat_minor": 2
}
