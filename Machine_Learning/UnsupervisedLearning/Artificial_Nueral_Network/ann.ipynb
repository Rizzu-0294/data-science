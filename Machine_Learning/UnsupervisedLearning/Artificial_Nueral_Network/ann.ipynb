{
 "cells": [
  {
   "cell_type": "markdown",
   "metadata": {},
   "source": [
    "# EPOCH \n",
    "### The cycle running for backward and forward propagation is called EPOCH "
   ]
  },
  {
   "cell_type": "code",
   "execution_count": 35,
   "metadata": {},
   "outputs": [],
   "source": [
    "import numpy as np \n",
    "import pandas as pd \n",
    "import matplotlib.pyplot as plt\n",
    "import seaborn as sb\n",
    "from sklearn.model_selection import train_test_split\n",
    "from sklearn.linear_model import LogisticRegression\n",
    "from sklearn.metrics import classification_report,confusion_matrix\n",
    "import warnings \n",
    "warnings.filterwarnings('ignore')"
   ]
  },
  {
   "cell_type": "code",
   "execution_count": 36,
   "metadata": {},
   "outputs": [],
   "source": [
    "df = pd.read_csv('cust_satisfaction.csv')"
   ]
  },
  {
   "cell_type": "code",
   "execution_count": 37,
   "metadata": {},
   "outputs": [
    {
     "data": {
      "text/html": [
       "<div>\n",
       "<style scoped>\n",
       "    .dataframe tbody tr th:only-of-type {\n",
       "        vertical-align: middle;\n",
       "    }\n",
       "\n",
       "    .dataframe tbody tr th {\n",
       "        vertical-align: top;\n",
       "    }\n",
       "\n",
       "    .dataframe thead th {\n",
       "        text-align: right;\n",
       "    }\n",
       "</style>\n",
       "<table border=\"1\" class=\"dataframe\">\n",
       "  <thead>\n",
       "    <tr style=\"text-align: right;\">\n",
       "      <th></th>\n",
       "      <th>Gender</th>\n",
       "      <th>Customer Type</th>\n",
       "      <th>Type of Travel</th>\n",
       "      <th>Class</th>\n",
       "      <th>satisfaction</th>\n",
       "      <th>Age</th>\n",
       "      <th>Flight Distance</th>\n",
       "      <th>Inflight entertainment</th>\n",
       "      <th>Baggage handling</th>\n",
       "      <th>Cleanliness</th>\n",
       "      <th>Departure Delay in Minutes</th>\n",
       "      <th>Arrival Delay in Minutes</th>\n",
       "    </tr>\n",
       "  </thead>\n",
       "  <tbody>\n",
       "    <tr>\n",
       "      <th>0</th>\n",
       "      <td>Male</td>\n",
       "      <td>Loyal Customer</td>\n",
       "      <td>Personal Travel</td>\n",
       "      <td>Eco Plus</td>\n",
       "      <td>neutral or dissatisfied</td>\n",
       "      <td>13</td>\n",
       "      <td>460</td>\n",
       "      <td>5</td>\n",
       "      <td>4</td>\n",
       "      <td>5</td>\n",
       "      <td>25</td>\n",
       "      <td>18.0</td>\n",
       "    </tr>\n",
       "    <tr>\n",
       "      <th>1</th>\n",
       "      <td>Male</td>\n",
       "      <td>disloyal Customer</td>\n",
       "      <td>Business travel</td>\n",
       "      <td>Business</td>\n",
       "      <td>neutral or dissatisfied</td>\n",
       "      <td>25</td>\n",
       "      <td>235</td>\n",
       "      <td>1</td>\n",
       "      <td>3</td>\n",
       "      <td>1</td>\n",
       "      <td>1</td>\n",
       "      <td>6.0</td>\n",
       "    </tr>\n",
       "    <tr>\n",
       "      <th>2</th>\n",
       "      <td>Female</td>\n",
       "      <td>Loyal Customer</td>\n",
       "      <td>Business travel</td>\n",
       "      <td>Business</td>\n",
       "      <td>satisfied</td>\n",
       "      <td>26</td>\n",
       "      <td>1142</td>\n",
       "      <td>5</td>\n",
       "      <td>4</td>\n",
       "      <td>5</td>\n",
       "      <td>0</td>\n",
       "      <td>0.0</td>\n",
       "    </tr>\n",
       "    <tr>\n",
       "      <th>3</th>\n",
       "      <td>Female</td>\n",
       "      <td>Loyal Customer</td>\n",
       "      <td>Business travel</td>\n",
       "      <td>Business</td>\n",
       "      <td>neutral or dissatisfied</td>\n",
       "      <td>25</td>\n",
       "      <td>562</td>\n",
       "      <td>2</td>\n",
       "      <td>3</td>\n",
       "      <td>2</td>\n",
       "      <td>11</td>\n",
       "      <td>9.0</td>\n",
       "    </tr>\n",
       "    <tr>\n",
       "      <th>4</th>\n",
       "      <td>Male</td>\n",
       "      <td>Loyal Customer</td>\n",
       "      <td>Business travel</td>\n",
       "      <td>Business</td>\n",
       "      <td>satisfied</td>\n",
       "      <td>61</td>\n",
       "      <td>214</td>\n",
       "      <td>3</td>\n",
       "      <td>4</td>\n",
       "      <td>3</td>\n",
       "      <td>0</td>\n",
       "      <td>0.0</td>\n",
       "    </tr>\n",
       "    <tr>\n",
       "      <th>5</th>\n",
       "      <td>Female</td>\n",
       "      <td>Loyal Customer</td>\n",
       "      <td>Personal Travel</td>\n",
       "      <td>Eco</td>\n",
       "      <td>neutral or dissatisfied</td>\n",
       "      <td>26</td>\n",
       "      <td>1180</td>\n",
       "      <td>1</td>\n",
       "      <td>4</td>\n",
       "      <td>1</td>\n",
       "      <td>0</td>\n",
       "      <td>0.0</td>\n",
       "    </tr>\n",
       "    <tr>\n",
       "      <th>6</th>\n",
       "      <td>Male</td>\n",
       "      <td>Loyal Customer</td>\n",
       "      <td>Personal Travel</td>\n",
       "      <td>Eco</td>\n",
       "      <td>neutral or dissatisfied</td>\n",
       "      <td>47</td>\n",
       "      <td>1276</td>\n",
       "      <td>2</td>\n",
       "      <td>4</td>\n",
       "      <td>2</td>\n",
       "      <td>9</td>\n",
       "      <td>23.0</td>\n",
       "    </tr>\n",
       "    <tr>\n",
       "      <th>7</th>\n",
       "      <td>Female</td>\n",
       "      <td>Loyal Customer</td>\n",
       "      <td>Business travel</td>\n",
       "      <td>Business</td>\n",
       "      <td>satisfied</td>\n",
       "      <td>52</td>\n",
       "      <td>2035</td>\n",
       "      <td>5</td>\n",
       "      <td>5</td>\n",
       "      <td>4</td>\n",
       "      <td>4</td>\n",
       "      <td>0.0</td>\n",
       "    </tr>\n",
       "    <tr>\n",
       "      <th>8</th>\n",
       "      <td>Female</td>\n",
       "      <td>Loyal Customer</td>\n",
       "      <td>Business travel</td>\n",
       "      <td>Business</td>\n",
       "      <td>neutral or dissatisfied</td>\n",
       "      <td>41</td>\n",
       "      <td>853</td>\n",
       "      <td>1</td>\n",
       "      <td>1</td>\n",
       "      <td>2</td>\n",
       "      <td>0</td>\n",
       "      <td>0.0</td>\n",
       "    </tr>\n",
       "    <tr>\n",
       "      <th>9</th>\n",
       "      <td>Male</td>\n",
       "      <td>disloyal Customer</td>\n",
       "      <td>Business travel</td>\n",
       "      <td>Eco</td>\n",
       "      <td>neutral or dissatisfied</td>\n",
       "      <td>20</td>\n",
       "      <td>1061</td>\n",
       "      <td>2</td>\n",
       "      <td>4</td>\n",
       "      <td>2</td>\n",
       "      <td>0</td>\n",
       "      <td>0.0</td>\n",
       "    </tr>\n",
       "  </tbody>\n",
       "</table>\n",
       "</div>"
      ],
      "text/plain": [
       "   Gender      Customer Type   Type of Travel     Class  \\\n",
       "0    Male     Loyal Customer  Personal Travel  Eco Plus   \n",
       "1    Male  disloyal Customer  Business travel  Business   \n",
       "2  Female     Loyal Customer  Business travel  Business   \n",
       "3  Female     Loyal Customer  Business travel  Business   \n",
       "4    Male     Loyal Customer  Business travel  Business   \n",
       "5  Female     Loyal Customer  Personal Travel       Eco   \n",
       "6    Male     Loyal Customer  Personal Travel       Eco   \n",
       "7  Female     Loyal Customer  Business travel  Business   \n",
       "8  Female     Loyal Customer  Business travel  Business   \n",
       "9    Male  disloyal Customer  Business travel       Eco   \n",
       "\n",
       "              satisfaction  Age  Flight Distance  Inflight entertainment  \\\n",
       "0  neutral or dissatisfied   13              460                       5   \n",
       "1  neutral or dissatisfied   25              235                       1   \n",
       "2                satisfied   26             1142                       5   \n",
       "3  neutral or dissatisfied   25              562                       2   \n",
       "4                satisfied   61              214                       3   \n",
       "5  neutral or dissatisfied   26             1180                       1   \n",
       "6  neutral or dissatisfied   47             1276                       2   \n",
       "7                satisfied   52             2035                       5   \n",
       "8  neutral or dissatisfied   41              853                       1   \n",
       "9  neutral or dissatisfied   20             1061                       2   \n",
       "\n",
       "   Baggage handling  Cleanliness  Departure Delay in Minutes  \\\n",
       "0                 4            5                          25   \n",
       "1                 3            1                           1   \n",
       "2                 4            5                           0   \n",
       "3                 3            2                          11   \n",
       "4                 4            3                           0   \n",
       "5                 4            1                           0   \n",
       "6                 4            2                           9   \n",
       "7                 5            4                           4   \n",
       "8                 1            2                           0   \n",
       "9                 4            2                           0   \n",
       "\n",
       "   Arrival Delay in Minutes  \n",
       "0                      18.0  \n",
       "1                       6.0  \n",
       "2                       0.0  \n",
       "3                       9.0  \n",
       "4                       0.0  \n",
       "5                       0.0  \n",
       "6                      23.0  \n",
       "7                       0.0  \n",
       "8                       0.0  \n",
       "9                       0.0  "
      ]
     },
     "execution_count": 37,
     "metadata": {},
     "output_type": "execute_result"
    }
   ],
   "source": [
    "df.head(10)"
   ]
  },
  {
   "cell_type": "code",
   "execution_count": 38,
   "metadata": {},
   "outputs": [],
   "source": [
    "df['Gender']=df['Gender'].map({'Male':1,'Female':0})\n"
   ]
  },
  {
   "cell_type": "code",
   "execution_count": 39,
   "metadata": {},
   "outputs": [],
   "source": [
    "df['Customer Type']=df['Customer Type'].map({'Loyal Customer':1,'disloyal Customer':0})\n",
    "\n"
   ]
  },
  {
   "cell_type": "code",
   "execution_count": 40,
   "metadata": {},
   "outputs": [],
   "source": [
    "df['Type of Travel']=df['Type of Travel'].map({'Business travel':1,'Personal Travel':0})"
   ]
  },
  {
   "cell_type": "code",
   "execution_count": 41,
   "metadata": {},
   "outputs": [],
   "source": [
    "df['Class']=df['Class'].map({'Business':1,'Eco':2,'Eco Plus':3})"
   ]
  },
  {
   "cell_type": "code",
   "execution_count": 42,
   "metadata": {},
   "outputs": [],
   "source": [
    "df['satisfaction']=df['satisfaction'].map({'neutral or dissatisfied':0,'satisfied':1})"
   ]
  },
  {
   "cell_type": "code",
   "execution_count": 43,
   "metadata": {},
   "outputs": [
    {
     "data": {
      "text/html": [
       "<div>\n",
       "<style scoped>\n",
       "    .dataframe tbody tr th:only-of-type {\n",
       "        vertical-align: middle;\n",
       "    }\n",
       "\n",
       "    .dataframe tbody tr th {\n",
       "        vertical-align: top;\n",
       "    }\n",
       "\n",
       "    .dataframe thead th {\n",
       "        text-align: right;\n",
       "    }\n",
       "</style>\n",
       "<table border=\"1\" class=\"dataframe\">\n",
       "  <thead>\n",
       "    <tr style=\"text-align: right;\">\n",
       "      <th></th>\n",
       "      <th>Gender</th>\n",
       "      <th>Customer Type</th>\n",
       "      <th>Type of Travel</th>\n",
       "      <th>Class</th>\n",
       "      <th>satisfaction</th>\n",
       "      <th>Age</th>\n",
       "      <th>Flight Distance</th>\n",
       "      <th>Inflight entertainment</th>\n",
       "      <th>Baggage handling</th>\n",
       "      <th>Cleanliness</th>\n",
       "      <th>Departure Delay in Minutes</th>\n",
       "      <th>Arrival Delay in Minutes</th>\n",
       "    </tr>\n",
       "  </thead>\n",
       "  <tbody>\n",
       "    <tr>\n",
       "      <th>0</th>\n",
       "      <td>1</td>\n",
       "      <td>1</td>\n",
       "      <td>0</td>\n",
       "      <td>3</td>\n",
       "      <td>0</td>\n",
       "      <td>13</td>\n",
       "      <td>460</td>\n",
       "      <td>5</td>\n",
       "      <td>4</td>\n",
       "      <td>5</td>\n",
       "      <td>25</td>\n",
       "      <td>18.0</td>\n",
       "    </tr>\n",
       "    <tr>\n",
       "      <th>1</th>\n",
       "      <td>1</td>\n",
       "      <td>0</td>\n",
       "      <td>1</td>\n",
       "      <td>1</td>\n",
       "      <td>0</td>\n",
       "      <td>25</td>\n",
       "      <td>235</td>\n",
       "      <td>1</td>\n",
       "      <td>3</td>\n",
       "      <td>1</td>\n",
       "      <td>1</td>\n",
       "      <td>6.0</td>\n",
       "    </tr>\n",
       "    <tr>\n",
       "      <th>2</th>\n",
       "      <td>0</td>\n",
       "      <td>1</td>\n",
       "      <td>1</td>\n",
       "      <td>1</td>\n",
       "      <td>1</td>\n",
       "      <td>26</td>\n",
       "      <td>1142</td>\n",
       "      <td>5</td>\n",
       "      <td>4</td>\n",
       "      <td>5</td>\n",
       "      <td>0</td>\n",
       "      <td>0.0</td>\n",
       "    </tr>\n",
       "    <tr>\n",
       "      <th>3</th>\n",
       "      <td>0</td>\n",
       "      <td>1</td>\n",
       "      <td>1</td>\n",
       "      <td>1</td>\n",
       "      <td>0</td>\n",
       "      <td>25</td>\n",
       "      <td>562</td>\n",
       "      <td>2</td>\n",
       "      <td>3</td>\n",
       "      <td>2</td>\n",
       "      <td>11</td>\n",
       "      <td>9.0</td>\n",
       "    </tr>\n",
       "    <tr>\n",
       "      <th>4</th>\n",
       "      <td>1</td>\n",
       "      <td>1</td>\n",
       "      <td>1</td>\n",
       "      <td>1</td>\n",
       "      <td>1</td>\n",
       "      <td>61</td>\n",
       "      <td>214</td>\n",
       "      <td>3</td>\n",
       "      <td>4</td>\n",
       "      <td>3</td>\n",
       "      <td>0</td>\n",
       "      <td>0.0</td>\n",
       "    </tr>\n",
       "    <tr>\n",
       "      <th>5</th>\n",
       "      <td>0</td>\n",
       "      <td>1</td>\n",
       "      <td>0</td>\n",
       "      <td>2</td>\n",
       "      <td>0</td>\n",
       "      <td>26</td>\n",
       "      <td>1180</td>\n",
       "      <td>1</td>\n",
       "      <td>4</td>\n",
       "      <td>1</td>\n",
       "      <td>0</td>\n",
       "      <td>0.0</td>\n",
       "    </tr>\n",
       "    <tr>\n",
       "      <th>6</th>\n",
       "      <td>1</td>\n",
       "      <td>1</td>\n",
       "      <td>0</td>\n",
       "      <td>2</td>\n",
       "      <td>0</td>\n",
       "      <td>47</td>\n",
       "      <td>1276</td>\n",
       "      <td>2</td>\n",
       "      <td>4</td>\n",
       "      <td>2</td>\n",
       "      <td>9</td>\n",
       "      <td>23.0</td>\n",
       "    </tr>\n",
       "    <tr>\n",
       "      <th>7</th>\n",
       "      <td>0</td>\n",
       "      <td>1</td>\n",
       "      <td>1</td>\n",
       "      <td>1</td>\n",
       "      <td>1</td>\n",
       "      <td>52</td>\n",
       "      <td>2035</td>\n",
       "      <td>5</td>\n",
       "      <td>5</td>\n",
       "      <td>4</td>\n",
       "      <td>4</td>\n",
       "      <td>0.0</td>\n",
       "    </tr>\n",
       "    <tr>\n",
       "      <th>8</th>\n",
       "      <td>0</td>\n",
       "      <td>1</td>\n",
       "      <td>1</td>\n",
       "      <td>1</td>\n",
       "      <td>0</td>\n",
       "      <td>41</td>\n",
       "      <td>853</td>\n",
       "      <td>1</td>\n",
       "      <td>1</td>\n",
       "      <td>2</td>\n",
       "      <td>0</td>\n",
       "      <td>0.0</td>\n",
       "    </tr>\n",
       "    <tr>\n",
       "      <th>9</th>\n",
       "      <td>1</td>\n",
       "      <td>0</td>\n",
       "      <td>1</td>\n",
       "      <td>2</td>\n",
       "      <td>0</td>\n",
       "      <td>20</td>\n",
       "      <td>1061</td>\n",
       "      <td>2</td>\n",
       "      <td>4</td>\n",
       "      <td>2</td>\n",
       "      <td>0</td>\n",
       "      <td>0.0</td>\n",
       "    </tr>\n",
       "  </tbody>\n",
       "</table>\n",
       "</div>"
      ],
      "text/plain": [
       "   Gender  Customer Type  Type of Travel  Class  satisfaction  Age  \\\n",
       "0       1              1               0      3             0   13   \n",
       "1       1              0               1      1             0   25   \n",
       "2       0              1               1      1             1   26   \n",
       "3       0              1               1      1             0   25   \n",
       "4       1              1               1      1             1   61   \n",
       "5       0              1               0      2             0   26   \n",
       "6       1              1               0      2             0   47   \n",
       "7       0              1               1      1             1   52   \n",
       "8       0              1               1      1             0   41   \n",
       "9       1              0               1      2             0   20   \n",
       "\n",
       "   Flight Distance  Inflight entertainment  Baggage handling  Cleanliness  \\\n",
       "0              460                       5                 4            5   \n",
       "1              235                       1                 3            1   \n",
       "2             1142                       5                 4            5   \n",
       "3              562                       2                 3            2   \n",
       "4              214                       3                 4            3   \n",
       "5             1180                       1                 4            1   \n",
       "6             1276                       2                 4            2   \n",
       "7             2035                       5                 5            4   \n",
       "8              853                       1                 1            2   \n",
       "9             1061                       2                 4            2   \n",
       "\n",
       "   Departure Delay in Minutes  Arrival Delay in Minutes  \n",
       "0                          25                      18.0  \n",
       "1                           1                       6.0  \n",
       "2                           0                       0.0  \n",
       "3                          11                       9.0  \n",
       "4                           0                       0.0  \n",
       "5                           0                       0.0  \n",
       "6                           9                      23.0  \n",
       "7                           4                       0.0  \n",
       "8                           0                       0.0  \n",
       "9                           0                       0.0  "
      ]
     },
     "execution_count": 43,
     "metadata": {},
     "output_type": "execute_result"
    }
   ],
   "source": [
    "df.head(10)"
   ]
  },
  {
   "cell_type": "code",
   "execution_count": 44,
   "metadata": {},
   "outputs": [
    {
     "data": {
      "image/png": "[encoded data removed]",
      "text/plain": [
       "<Figure size 500x500 with 1 Axes>"
      ]
     },
     "metadata": {},
     "output_type": "display_data"
    }
   ],
   "source": [
    "index=list((df['Customer Type'].value_counts().values))\n",
    "label=list((df['Customer Type'].value_counts().keys()))\n",
    "color = ['red','green']\n",
    "sb.catplot(x=label,y=index,kind='bar',palette=color)\n",
    "plt.title(\"Imbalance dataset \",fontsize=16)\n",
    "plt.show()"
   ]
  },
  {
   "cell_type": "code",
   "execution_count": 45,
   "metadata": {},
   "outputs": [],
   "source": [
    "loyal_customer=df[df['Customer Type']==1].loc[0:20000]\n",
    "disloyal_customer=df[df['Customer Type']==0]"
   ]
  },
  {
   "cell_type": "code",
   "execution_count": 46,
   "metadata": {},
   "outputs": [
    {
     "data": {
      "image/png": "[encoded data removed]",
      "text/plain": [
       "<Figure size 500x500 with 1 Axes>"
      ]
     },
     "metadata": {},
     "output_type": "display_data"
    }
   ],
   "source": [
    "balance_df=pd.concat([loyal_customer,disloyal_customer])\n",
    "colors=['red','green']\n",
    "sb.catplot(x=list(balance_df['Customer Type'].value_counts().keys()),\n",
    "y=list(balance_df['Customer Type'].value_counts().values),kind='bar',palette=colors)\n",
    "plt.title('Balance dataset')\n",
    "plt.show()\n"
   ]
  },
  {
   "cell_type": "code",
   "execution_count": 47,
   "metadata": {},
   "outputs": [
    {
     "data": {
      "text/plain": [
       "Gender                         0\n",
       "Customer Type                  0\n",
       "Type of Travel                 0\n",
       "Class                          0\n",
       "satisfaction                   0\n",
       "Age                            0\n",
       "Flight Distance                0\n",
       "Inflight entertainment         0\n",
       "Baggage handling               0\n",
       "Cleanliness                    0\n",
       "Departure Delay in Minutes     0\n",
       "Arrival Delay in Minutes      94\n",
       "dtype: int64"
      ]
     },
     "execution_count": 47,
     "metadata": {},
     "output_type": "execute_result"
    }
   ],
   "source": [
    "balance_df.isnull().sum()"
   ]
  },
  {
   "cell_type": "code",
   "execution_count": 48,
   "metadata": {},
   "outputs": [],
   "source": [
    "balance_df.dropna(inplace=True)"
   ]
  },
  {
   "cell_type": "code",
   "execution_count": 49,
   "metadata": {},
   "outputs": [
    {
     "data": {
      "text/plain": [
       "Gender                        0\n",
       "Customer Type                 0\n",
       "Type of Travel                0\n",
       "Class                         0\n",
       "satisfaction                  0\n",
       "Age                           0\n",
       "Flight Distance               0\n",
       "Inflight entertainment        0\n",
       "Baggage handling              0\n",
       "Cleanliness                   0\n",
       "Departure Delay in Minutes    0\n",
       "Arrival Delay in Minutes      0\n",
       "dtype: int64"
      ]
     },
     "execution_count": 49,
     "metadata": {},
     "output_type": "execute_result"
    }
   ],
   "source": [
    "balance_df.isnull().sum()"
   ]
  },
  {
   "cell_type": "code",
   "execution_count": 50,
   "metadata": {},
   "outputs": [],
   "source": [
    "x=balance_df.drop('Customer Type',axis=1)\n",
    "y=balance_df[['Customer Type']]"
   ]
  },
  {
   "cell_type": "code",
   "execution_count": 51,
   "metadata": {},
   "outputs": [
    {
     "name": "stdout",
     "output_type": "stream",
     "text": [
      "(35269, 11) (35269, 1)\n"
     ]
    }
   ],
   "source": [
    "print(x.shape,y.shape)"
   ]
  },
  {
   "cell_type": "code",
   "execution_count": 52,
   "metadata": {},
   "outputs": [
    {
     "name": "stdout",
     "output_type": "stream",
     "text": [
      "x train shape  (28215, 11) y train shape, (7054, 11)\n",
      "(28215, 1) (7054, 1)\n"
     ]
    }
   ],
   "source": [
    "x_train,x_test,y_train,y_test=train_test_split(x,y,test_size=0.2)\n",
    "print(\"x train shape \",x_train.shape,\"y train shape,\",x_test.shape)\n",
    "print(y_train.shape,y_test.shape)"
   ]
  },
  {
   "cell_type": "code",
   "execution_count": 53,
   "metadata": {},
   "outputs": [],
   "source": [
    "from sklearn.preprocessing import StandardScaler\n",
    "std = StandardScaler()"
   ]
  },
  {
   "cell_type": "code",
   "execution_count": 54,
   "metadata": {},
   "outputs": [],
   "source": [
    "x_train_scaled=std.fit_transform(x_train)"
   ]
  },
  {
   "cell_type": "code",
   "execution_count": 55,
   "metadata": {},
   "outputs": [],
   "source": [
    "x_test_scaled=std.transform(x_test)"
   ]
  },
  {
   "cell_type": "markdown",
   "metadata": {},
   "source": [
    "# Libraries for ANN"
   ]
  },
  {
   "cell_type": "code",
   "execution_count": 56,
   "metadata": {},
   "outputs": [],
   "source": [
    "from tensorflow.keras.layers import Dense, Dropout\n",
    "from tensorflow.keras.models import Sequential,load_model"
   ]
  },
  {
   "cell_type": "code",
   "execution_count": 57,
   "metadata": {},
   "outputs": [
    {
     "data": {
      "text/plain": [
       "((28215, 11), (28215, 1))"
      ]
     },
     "execution_count": 57,
     "metadata": {},
     "output_type": "execute_result"
    }
   ],
   "source": [
    "x_train.shape    , y_train.shape    # shape of the dataset"
   ]
  },
  {
   "cell_type": "code",
   "execution_count": 58,
   "metadata": {},
   "outputs": [
    {
     "data": {
      "text/plain": [
       "11"
      ]
     },
     "execution_count": 58,
     "metadata": {},
     "output_type": "execute_result"
    }
   ],
   "source": [
    "x_train_scaled.shape[1]"
   ]
  },
  {
   "cell_type": "code",
   "execution_count": 59,
   "metadata": {},
   "outputs": [
    {
     "data": {
      "text/html": [
       "<pre style=\"white-space:pre;overflow-x:auto;line-height:normal;font-family:Menlo,'DejaVu Sans Mono',consolas,'Courier New',monospace\"><span style=\"font-weight: bold\">Model: \"sequential_1\"</span>\n",
       "</pre>\n"
      ],
      "text/plain": [
       "\u001b[1mModel: \"sequential_1\"\u001b[0m\n"
      ]
     },
     "metadata": {},
     "output_type": "display_data"
    },
    {
     "data": {
      "text/html": [
       "<pre style=\"white-space:pre;overflow-x:auto;line-height:normal;font-family:Menlo,'DejaVu Sans Mono',consolas,'Courier New',monospace\">┏━━━━━━━━━━━━━━━━━━━━━━━━━━━━━━━━━┳━━━━━━━━━━━━━━━━━━━━━━━━┳━━━━━━━━━━━━━━━┓\n",
       "┃<span style=\"font-weight: bold\"> Layer (type)                    </span>┃<span style=\"font-weight: bold\"> Output Shape           </span>┃<span style=\"font-weight: bold\">       Param # </span>┃\n",
       "┡━━━━━━━━━━━━━━━━━━━━━━━━━━━━━━━━━╇━━━━━━━━━━━━━━━━━━━━━━━━╇━━━━━━━━━━━━━━━┩\n",
       "│ dense_5 (<span style=\"color: #0087ff; text-decoration-color: #0087ff\">Dense</span>)                 │ (<span style=\"color: #00d7ff; text-decoration-color: #00d7ff\">None</span>, <span style=\"color: #00af00; text-decoration-color: #00af00\">68</span>)             │           <span style=\"color: #00af00; text-decoration-color: #00af00\">816</span> │\n",
       "├─────────────────────────────────┼────────────────────────┼───────────────┤\n",
       "│ dense_6 (<span style=\"color: #0087ff; text-decoration-color: #0087ff\">Dense</span>)                 │ (<span style=\"color: #00d7ff; text-decoration-color: #00d7ff\">None</span>, <span style=\"color: #00af00; text-decoration-color: #00af00\">32</span>)             │         <span style=\"color: #00af00; text-decoration-color: #00af00\">2,208</span> │\n",
       "├─────────────────────────────────┼────────────────────────┼───────────────┤\n",
       "│ dense_7 (<span style=\"color: #0087ff; text-decoration-color: #0087ff\">Dense</span>)                 │ (<span style=\"color: #00d7ff; text-decoration-color: #00d7ff\">None</span>, <span style=\"color: #00af00; text-decoration-color: #00af00\">24</span>)             │           <span style=\"color: #00af00; text-decoration-color: #00af00\">792</span> │\n",
       "├─────────────────────────────────┼────────────────────────┼───────────────┤\n",
       "│ dense_8 (<span style=\"color: #0087ff; text-decoration-color: #0087ff\">Dense</span>)                 │ (<span style=\"color: #00d7ff; text-decoration-color: #00d7ff\">None</span>, <span style=\"color: #00af00; text-decoration-color: #00af00\">12</span>)             │           <span style=\"color: #00af00; text-decoration-color: #00af00\">300</span> │\n",
       "├─────────────────────────────────┼────────────────────────┼───────────────┤\n",
       "│ dense_9 (<span style=\"color: #0087ff; text-decoration-color: #0087ff\">Dense</span>)                 │ (<span style=\"color: #00d7ff; text-decoration-color: #00d7ff\">None</span>, <span style=\"color: #00af00; text-decoration-color: #00af00\">1</span>)              │            <span style=\"color: #00af00; text-decoration-color: #00af00\">13</span> │\n",
       "└─────────────────────────────────┴────────────────────────┴───────────────┘\n",
       "</pre>\n"
      ],
      "text/plain": [
       "┏━━━━━━━━━━━━━━━━━━━━━━━━━━━━━━━━━┳━━━━━━━━━━━━━━━━━━━━━━━━┳━━━━━━━━━━━━━━━┓\n",
       "┃\u001b[1m \u001b[0m\u001b[1mLayer (type)                   \u001b[0m\u001b[1m \u001b[0m┃\u001b[1m \u001b[0m\u001b[1mOutput Shape          \u001b[0m\u001b[1m \u001b[0m┃\u001b[1m \u001b[0m\u001b[1m      Param #\u001b[0m\u001b[1m \u001b[0m┃\n",
       "┡━━━━━━━━━━━━━━━━━━━━━━━━━━━━━━━━━╇━━━━━━━━━━━━━━━━━━━━━━━━╇━━━━━━━━━━━━━━━┩\n",
       "│ dense_5 (\u001b[38;5;33mDense\u001b[0m)                 │ (\u001b[38;5;45mNone\u001b[0m, \u001b[38;5;34m68\u001b[0m)             │           \u001b[38;5;34m816\u001b[0m │\n",
       "├─────────────────────────────────┼────────────────────────┼───────────────┤\n",
       "│ dense_6 (\u001b[38;5;33mDense\u001b[0m)                 │ (\u001b[38;5;45mNone\u001b[0m, \u001b[38;5;34m32\u001b[0m)             │         \u001b[38;5;34m2,208\u001b[0m │\n",
       "├─────────────────────────────────┼────────────────────────┼───────────────┤\n",
       "│ dense_7 (\u001b[38;5;33mDense\u001b[0m)                 │ (\u001b[38;5;45mNone\u001b[0m, \u001b[38;5;34m24\u001b[0m)             │           \u001b[38;5;34m792\u001b[0m │\n",
       "├─────────────────────────────────┼────────────────────────┼───────────────┤\n",
       "│ dense_8 (\u001b[38;5;33mDense\u001b[0m)                 │ (\u001b[38;5;45mNone\u001b[0m, \u001b[38;5;34m12\u001b[0m)             │           \u001b[38;5;34m300\u001b[0m │\n",
       "├─────────────────────────────────┼────────────────────────┼───────────────┤\n",
       "│ dense_9 (\u001b[38;5;33mDense\u001b[0m)                 │ (\u001b[38;5;45mNone\u001b[0m, \u001b[38;5;34m1\u001b[0m)              │            \u001b[38;5;34m13\u001b[0m │\n",
       "└─────────────────────────────────┴────────────────────────┴───────────────┘\n"
      ]
     },
     "metadata": {},
     "output_type": "display_data"
    },
    {
     "data": {
      "text/html": [
       "<pre style=\"white-space:pre;overflow-x:auto;line-height:normal;font-family:Menlo,'DejaVu Sans Mono',consolas,'Courier New',monospace\"><span style=\"font-weight: bold\"> Total params: </span><span style=\"color: #00af00; text-decoration-color: #00af00\">4,129</span> (16.13 KB)\n",
       "</pre>\n"
      ],
      "text/plain": [
       "\u001b[1m Total params: \u001b[0m\u001b[38;5;34m4,129\u001b[0m (16.13 KB)\n"
      ]
     },
     "metadata": {},
     "output_type": "display_data"
    },
    {
     "data": {
      "text/html": [
       "<pre style=\"white-space:pre;overflow-x:auto;line-height:normal;font-family:Menlo,'DejaVu Sans Mono',consolas,'Courier New',monospace\"><span style=\"font-weight: bold\"> Trainable params: </span><span style=\"color: #00af00; text-decoration-color: #00af00\">4,129</span> (16.13 KB)\n",
       "</pre>\n"
      ],
      "text/plain": [
       "\u001b[1m Trainable params: \u001b[0m\u001b[38;5;34m4,129\u001b[0m (16.13 KB)\n"
      ]
     },
     "metadata": {},
     "output_type": "display_data"
    },
    {
     "data": {
      "text/html": [
       "<pre style=\"white-space:pre;overflow-x:auto;line-height:normal;font-family:Menlo,'DejaVu Sans Mono',consolas,'Courier New',monospace\"><span style=\"font-weight: bold\"> Non-trainable params: </span><span style=\"color: #00af00; text-decoration-color: #00af00\">0</span> (0.00 B)\n",
       "</pre>\n"
      ],
      "text/plain": [
       "\u001b[1m Non-trainable params: \u001b[0m\u001b[38;5;34m0\u001b[0m (0.00 B)\n"
      ]
     },
     "metadata": {},
     "output_type": "display_data"
    }
   ],
   "source": [
    "Ann_model=Sequential()\n",
    "\n",
    "# hidden layers\n",
    "Ann_model.add(Dense(units=68,activation='relu',input_dim=x_train_scaled.shape[1]))\n",
    "# Ann_model.add =  to add layers \n",
    "# units are nothing but N No. of Nodes \n",
    "# activation is activation function like sigmoid and relu\n",
    "# input_dim is your input(features/colums )\n",
    "Ann_model.add(Dense(units=32,activation='relu'))\n",
    "Ann_model.add(Dense(units=24,activation='relu'))\n",
    "Ann_model.add(Dense(units=12,activation='relu'))\n",
    "\n",
    "# output layer\n",
    "Ann_model.add(Dense(units=1,activation='sigmoid'))\n",
    "# here unit is 1 cause we want single output on the basis of problem so we require one node \n",
    "\n",
    "# Compiling the models \n",
    "Ann_model.compile(optimizer='adam',loss='binary_crossentropy',metrics=['accuracy'])\n",
    "# once the model predict the value and error occur the to overcome that issue we use back propagation \n",
    "# for back propagation we use .compile in which we give adam optimizer ,binary cross entropy \n",
    "Ann_model.summary()"
   ]
  },
  {
   "cell_type": "code",
   "execution_count": 60,
   "metadata": {},
   "outputs": [
    {
     "name": "stdout",
     "output_type": "stream",
     "text": [
      "Epoch 1/15\n",
      "\u001b[1m882/882\u001b[0m \u001b[32m━━━━━━━━━━━━━━━━━━━━\u001b[0m\u001b[37m\u001b[0m \u001b[1m6s\u001b[0m 4ms/step - accuracy: 0.8082 - loss: 0.3918 - val_accuracy: 0.9069 - val_loss: 0.2409\n",
      "Epoch 2/15\n",
      "\u001b[1m882/882\u001b[0m \u001b[32m━━━━━━━━━━━━━━━━━━━━\u001b[0m\u001b[37m\u001b[0m \u001b[1m9s\u001b[0m 8ms/step - accuracy: 0.9080 - loss: 0.2386 - val_accuracy: 0.9073 - val_loss: 0.2255\n",
      "Epoch 3/15\n",
      "\u001b[1m882/882\u001b[0m \u001b[32m━━━━━━━━━━━━━━━━━━━━\u001b[0m\u001b[37m\u001b[0m \u001b[1m3s\u001b[0m 3ms/step - accuracy: 0.9175 - loss: 0.2162 - val_accuracy: 0.9139 - val_loss: 0.2161\n",
      "Epoch 4/15\n",
      "\u001b[1m882/882\u001b[0m \u001b[32m━━━━━━━━━━━━━━━━━━━━\u001b[0m\u001b[37m\u001b[0m \u001b[1m3s\u001b[0m 3ms/step - accuracy: 0.9159 - loss: 0.2194 - val_accuracy: 0.9176 - val_loss: 0.2085\n",
      "Epoch 5/15\n",
      "\u001b[1m882/882\u001b[0m \u001b[32m━━━━━━━━━━━━━━━━━━━━\u001b[0m\u001b[37m\u001b[0m \u001b[1m2s\u001b[0m 3ms/step - accuracy: 0.9189 - loss: 0.2108 - val_accuracy: 0.9199 - val_loss: 0.2041\n",
      "Epoch 6/15\n",
      "\u001b[1m882/882\u001b[0m \u001b[32m━━━━━━━━━━━━━━━━━━━━\u001b[0m\u001b[37m\u001b[0m \u001b[1m2s\u001b[0m 3ms/step - accuracy: 0.9242 - loss: 0.2022 - val_accuracy: 0.9122 - val_loss: 0.2215\n",
      "Epoch 7/15\n",
      "\u001b[1m882/882\u001b[0m \u001b[32m━━━━━━━━━━━━━━━━━━━━\u001b[0m\u001b[37m\u001b[0m \u001b[1m2s\u001b[0m 3ms/step - accuracy: 0.9255 - loss: 0.1981 - val_accuracy: 0.9237 - val_loss: 0.2037\n",
      "Epoch 8/15\n",
      "\u001b[1m882/882\u001b[0m \u001b[32m━━━━━━━━━━━━━━━━━━━━\u001b[0m\u001b[37m\u001b[0m \u001b[1m2s\u001b[0m 3ms/step - accuracy: 0.9248 - loss: 0.1995 - val_accuracy: 0.9185 - val_loss: 0.2057\n",
      "Epoch 9/15\n",
      "\u001b[1m882/882\u001b[0m \u001b[32m━━━━━━━━━━━━━━━━━━━━\u001b[0m\u001b[37m\u001b[0m \u001b[1m2s\u001b[0m 3ms/step - accuracy: 0.9228 - loss: 0.2002 - val_accuracy: 0.9253 - val_loss: 0.1945\n",
      "Epoch 10/15\n",
      "\u001b[1m882/882\u001b[0m \u001b[32m━━━━━━━━━━━━━━━━━━━━\u001b[0m\u001b[37m\u001b[0m \u001b[1m3s\u001b[0m 3ms/step - accuracy: 0.9266 - loss: 0.1913 - val_accuracy: 0.9212 - val_loss: 0.2025\n",
      "Epoch 11/15\n",
      "\u001b[1m882/882\u001b[0m \u001b[32m━━━━━━━━━━━━━━━━━━━━\u001b[0m\u001b[37m\u001b[0m \u001b[1m2s\u001b[0m 3ms/step - accuracy: 0.9281 - loss: 0.1911 - val_accuracy: 0.9227 - val_loss: 0.2020\n",
      "Epoch 12/15\n",
      "\u001b[1m882/882\u001b[0m \u001b[32m━━━━━━━━━━━━━━━━━━━━\u001b[0m\u001b[37m\u001b[0m \u001b[1m2s\u001b[0m 3ms/step - accuracy: 0.9281 - loss: 0.1910 - val_accuracy: 0.9212 - val_loss: 0.2008\n",
      "Epoch 13/15\n",
      "\u001b[1m882/882\u001b[0m \u001b[32m━━━━━━━━━━━━━━━━━━━━\u001b[0m\u001b[37m\u001b[0m \u001b[1m2s\u001b[0m 3ms/step - accuracy: 0.9305 - loss: 0.1891 - val_accuracy: 0.9257 - val_loss: 0.1927\n",
      "Epoch 14/15\n",
      "\u001b[1m882/882\u001b[0m \u001b[32m━━━━━━━━━━━━━━━━━━━━\u001b[0m\u001b[37m\u001b[0m \u001b[1m3s\u001b[0m 3ms/step - accuracy: 0.9279 - loss: 0.1913 - val_accuracy: 0.9230 - val_loss: 0.1987\n",
      "Epoch 15/15\n",
      "\u001b[1m882/882\u001b[0m \u001b[32m━━━━━━━━━━━━━━━━━━━━\u001b[0m\u001b[37m\u001b[0m \u001b[1m2s\u001b[0m 3ms/step - accuracy: 0.9325 - loss: 0.1808 - val_accuracy: 0.9237 - val_loss: 0.1922\n"
     ]
    }
   ],
   "source": [
    "history=Ann_model.fit(x_train_scaled,y_train,epochs=15,validation_data=(x_test_scaled,y_test))"
   ]
  },
  {
   "cell_type": "code",
   "execution_count": 61,
   "metadata": {},
   "outputs": [
    {
     "name": "stdout",
     "output_type": "stream",
     "text": [
      "Epoch 16/50\n",
      "\u001b[1m882/882\u001b[0m \u001b[32m━━━━━━━━━━━━━━━━━━━━\u001b[0m\u001b[37m\u001b[0m \u001b[1m3s\u001b[0m 3ms/step - accuracy: 0.9309 - loss: 0.1840 - val_accuracy: 0.9246 - val_loss: 0.1938\n",
      "Epoch 17/50\n",
      "\u001b[1m882/882\u001b[0m \u001b[32m━━━━━━━━━━━━━━━━━━━━\u001b[0m\u001b[37m\u001b[0m \u001b[1m3s\u001b[0m 3ms/step - accuracy: 0.9331 - loss: 0.1782 - val_accuracy: 0.9236 - val_loss: 0.1932\n",
      "Epoch 18/50\n",
      "\u001b[1m882/882\u001b[0m \u001b[32m━━━━━━━━━━━━━━━━━━━━\u001b[0m\u001b[37m\u001b[0m \u001b[1m2s\u001b[0m 3ms/step - accuracy: 0.9341 - loss: 0.1786 - val_accuracy: 0.9249 - val_loss: 0.1955\n",
      "Epoch 19/50\n",
      "\u001b[1m882/882\u001b[0m \u001b[32m━━━━━━━━━━━━━━━━━━━━\u001b[0m\u001b[37m\u001b[0m \u001b[1m3s\u001b[0m 3ms/step - accuracy: 0.9325 - loss: 0.1799 - val_accuracy: 0.9244 - val_loss: 0.1897\n",
      "Epoch 20/50\n",
      "\u001b[1m882/882\u001b[0m \u001b[32m━━━━━━━━━━━━━━━━━━━━\u001b[0m\u001b[37m\u001b[0m \u001b[1m2s\u001b[0m 3ms/step - accuracy: 0.9301 - loss: 0.1820 - val_accuracy: 0.9230 - val_loss: 0.1963\n",
      "Epoch 21/50\n",
      "\u001b[1m882/882\u001b[0m \u001b[32m━━━━━━━━━━━━━━━━━━━━\u001b[0m\u001b[37m\u001b[0m \u001b[1m3s\u001b[0m 3ms/step - accuracy: 0.9326 - loss: 0.1800 - val_accuracy: 0.9283 - val_loss: 0.1914\n",
      "Epoch 22/50\n",
      "\u001b[1m882/882\u001b[0m \u001b[32m━━━━━━━━━━━━━━━━━━━━\u001b[0m\u001b[37m\u001b[0m \u001b[1m2s\u001b[0m 3ms/step - accuracy: 0.9336 - loss: 0.1772 - val_accuracy: 0.9253 - val_loss: 0.1946\n",
      "Epoch 23/50\n",
      "\u001b[1m882/882\u001b[0m \u001b[32m━━━━━━━━━━━━━━━━━━━━\u001b[0m\u001b[37m\u001b[0m \u001b[1m2s\u001b[0m 3ms/step - accuracy: 0.9333 - loss: 0.1756 - val_accuracy: 0.9250 - val_loss: 0.1933\n",
      "Epoch 24/50\n",
      "\u001b[1m882/882\u001b[0m \u001b[32m━━━━━━━━━━━━━━━━━━━━\u001b[0m\u001b[37m\u001b[0m \u001b[1m2s\u001b[0m 3ms/step - accuracy: 0.9336 - loss: 0.1745 - val_accuracy: 0.9266 - val_loss: 0.1902\n",
      "Epoch 25/50\n",
      "\u001b[1m882/882\u001b[0m \u001b[32m━━━━━━━━━━━━━━━━━━━━\u001b[0m\u001b[37m\u001b[0m \u001b[1m3s\u001b[0m 3ms/step - accuracy: 0.9384 - loss: 0.1675 - val_accuracy: 0.9273 - val_loss: 0.1905\n",
      "Epoch 26/50\n",
      "\u001b[1m882/882\u001b[0m \u001b[32m━━━━━━━━━━━━━━━━━━━━\u001b[0m\u001b[37m\u001b[0m \u001b[1m3s\u001b[0m 3ms/step - accuracy: 0.9329 - loss: 0.1753 - val_accuracy: 0.9278 - val_loss: 0.1919\n",
      "Epoch 27/50\n",
      "\u001b[1m882/882\u001b[0m \u001b[32m━━━━━━━━━━━━━━━━━━━━\u001b[0m\u001b[37m\u001b[0m \u001b[1m2s\u001b[0m 3ms/step - accuracy: 0.9348 - loss: 0.1722 - val_accuracy: 0.9251 - val_loss: 0.1921\n",
      "Epoch 28/50\n",
      "\u001b[1m882/882\u001b[0m \u001b[32m━━━━━━━━━━━━━━━━━━━━\u001b[0m\u001b[37m\u001b[0m \u001b[1m2s\u001b[0m 3ms/step - accuracy: 0.9320 - loss: 0.1718 - val_accuracy: 0.9256 - val_loss: 0.1927\n",
      "Epoch 29/50\n",
      "\u001b[1m882/882\u001b[0m \u001b[32m━━━━━━━━━━━━━━━━━━━━\u001b[0m\u001b[37m\u001b[0m \u001b[1m3s\u001b[0m 3ms/step - accuracy: 0.9360 - loss: 0.1729 - val_accuracy: 0.9264 - val_loss: 0.1932\n",
      "Epoch 30/50\n",
      "\u001b[1m882/882\u001b[0m \u001b[32m━━━━━━━━━━━━━━━━━━━━\u001b[0m\u001b[37m\u001b[0m \u001b[1m3s\u001b[0m 3ms/step - accuracy: 0.9371 - loss: 0.1652 - val_accuracy: 0.9277 - val_loss: 0.1921\n",
      "Epoch 31/50\n",
      "\u001b[1m882/882\u001b[0m \u001b[32m━━━━━━━━━━━━━━━━━━━━\u001b[0m\u001b[37m\u001b[0m \u001b[1m3s\u001b[0m 3ms/step - accuracy: 0.9354 - loss: 0.1697 - val_accuracy: 0.9260 - val_loss: 0.1976\n",
      "Epoch 32/50\n",
      "\u001b[1m882/882\u001b[0m \u001b[32m━━━━━━━━━━━━━━━━━━━━\u001b[0m\u001b[37m\u001b[0m \u001b[1m2s\u001b[0m 3ms/step - accuracy: 0.9382 - loss: 0.1641 - val_accuracy: 0.9269 - val_loss: 0.1863\n",
      "Epoch 33/50\n",
      "\u001b[1m882/882\u001b[0m \u001b[32m━━━━━━━━━━━━━━━━━━━━\u001b[0m\u001b[37m\u001b[0m \u001b[1m3s\u001b[0m 3ms/step - accuracy: 0.9348 - loss: 0.1670 - val_accuracy: 0.9273 - val_loss: 0.1896\n",
      "Epoch 34/50\n",
      "\u001b[1m882/882\u001b[0m \u001b[32m━━━━━━━━━━━━━━━━━━━━\u001b[0m\u001b[37m\u001b[0m \u001b[1m2s\u001b[0m 3ms/step - accuracy: 0.9375 - loss: 0.1620 - val_accuracy: 0.9283 - val_loss: 0.1922\n",
      "Epoch 35/50\n",
      "\u001b[1m882/882\u001b[0m \u001b[32m━━━━━━━━━━━━━━━━━━━━\u001b[0m\u001b[37m\u001b[0m \u001b[1m2s\u001b[0m 3ms/step - accuracy: 0.9365 - loss: 0.1670 - val_accuracy: 0.9264 - val_loss: 0.1901\n",
      "Epoch 36/50\n",
      "\u001b[1m882/882\u001b[0m \u001b[32m━━━━━━━━━━━━━━━━━━━━\u001b[0m\u001b[37m\u001b[0m \u001b[1m3s\u001b[0m 3ms/step - accuracy: 0.9358 - loss: 0.1691 - val_accuracy: 0.9267 - val_loss: 0.1950\n",
      "Epoch 37/50\n",
      "\u001b[1m882/882\u001b[0m \u001b[32m━━━━━━━━━━━━━━━━━━━━\u001b[0m\u001b[37m\u001b[0m \u001b[1m2s\u001b[0m 3ms/step - accuracy: 0.9381 - loss: 0.1662 - val_accuracy: 0.9270 - val_loss: 0.1926\n",
      "Epoch 38/50\n",
      "\u001b[1m882/882\u001b[0m \u001b[32m━━━━━━━━━━━━━━━━━━━━\u001b[0m\u001b[37m\u001b[0m \u001b[1m2s\u001b[0m 3ms/step - accuracy: 0.9351 - loss: 0.1654 - val_accuracy: 0.9271 - val_loss: 0.1922\n",
      "Epoch 39/50\n",
      "\u001b[1m882/882\u001b[0m \u001b[32m━━━━━━━━━━━━━━━━━━━━\u001b[0m\u001b[37m\u001b[0m \u001b[1m3s\u001b[0m 3ms/step - accuracy: 0.9380 - loss: 0.1637 - val_accuracy: 0.9274 - val_loss: 0.1914\n",
      "Epoch 40/50\n",
      "\u001b[1m882/882\u001b[0m \u001b[32m━━━━━━━━━━━━━━━━━━━━\u001b[0m\u001b[37m\u001b[0m \u001b[1m2s\u001b[0m 3ms/step - accuracy: 0.9401 - loss: 0.1583 - val_accuracy: 0.9269 - val_loss: 0.1933\n",
      "Epoch 41/50\n",
      "\u001b[1m882/882\u001b[0m \u001b[32m━━━━━━━━━━━━━━━━━━━━\u001b[0m\u001b[37m\u001b[0m \u001b[1m2s\u001b[0m 3ms/step - accuracy: 0.9400 - loss: 0.1578 - val_accuracy: 0.9254 - val_loss: 0.1983\n",
      "Epoch 42/50\n",
      "\u001b[1m882/882\u001b[0m \u001b[32m━━━━━━━━━━━━━━━━━━━━\u001b[0m\u001b[37m\u001b[0m \u001b[1m2s\u001b[0m 3ms/step - accuracy: 0.9357 - loss: 0.1642 - val_accuracy: 0.9271 - val_loss: 0.1976\n",
      "Epoch 43/50\n",
      "\u001b[1m882/882\u001b[0m \u001b[32m━━━━━━━━━━━━━━━━━━━━\u001b[0m\u001b[37m\u001b[0m \u001b[1m6s\u001b[0m 6ms/step - accuracy: 0.9402 - loss: 0.1580 - val_accuracy: 0.9257 - val_loss: 0.1958\n",
      "Epoch 44/50\n",
      "\u001b[1m882/882\u001b[0m \u001b[32m━━━━━━━━━━━━━━━━━━━━\u001b[0m\u001b[37m\u001b[0m \u001b[1m4s\u001b[0m 4ms/step - accuracy: 0.9364 - loss: 0.1640 - val_accuracy: 0.9277 - val_loss: 0.1909\n",
      "Epoch 45/50\n",
      "\u001b[1m882/882\u001b[0m \u001b[32m━━━━━━━━━━━━━━━━━━━━\u001b[0m\u001b[37m\u001b[0m \u001b[1m3s\u001b[0m 4ms/step - accuracy: 0.9381 - loss: 0.1590 - val_accuracy: 0.9249 - val_loss: 0.1972\n",
      "Epoch 46/50\n",
      "\u001b[1m882/882\u001b[0m \u001b[32m━━━━━━━━━━━━━━━━━━━━\u001b[0m\u001b[37m\u001b[0m \u001b[1m3s\u001b[0m 3ms/step - accuracy: 0.9357 - loss: 0.1605 - val_accuracy: 0.9288 - val_loss: 0.1928\n",
      "Epoch 47/50\n",
      "\u001b[1m882/882\u001b[0m \u001b[32m━━━━━━━━━━━━━━━━━━━━\u001b[0m\u001b[37m\u001b[0m \u001b[1m3s\u001b[0m 3ms/step - accuracy: 0.9397 - loss: 0.1567 - val_accuracy: 0.9286 - val_loss: 0.1914\n",
      "Epoch 48/50\n",
      "\u001b[1m882/882\u001b[0m \u001b[32m━━━━━━━━━━━━━━━━━━━━\u001b[0m\u001b[37m\u001b[0m \u001b[1m3s\u001b[0m 4ms/step - accuracy: 0.9364 - loss: 0.1590 - val_accuracy: 0.9280 - val_loss: 0.1939\n",
      "Epoch 49/50\n",
      "\u001b[1m882/882\u001b[0m \u001b[32m━━━━━━━━━━━━━━━━━━━━\u001b[0m\u001b[37m\u001b[0m \u001b[1m3s\u001b[0m 3ms/step - accuracy: 0.9350 - loss: 0.1643 - val_accuracy: 0.9253 - val_loss: 0.1957\n",
      "Epoch 50/50\n",
      "\u001b[1m882/882\u001b[0m \u001b[32m━━━━━━━━━━━━━━━━━━━━\u001b[0m\u001b[37m\u001b[0m \u001b[1m3s\u001b[0m 4ms/step - accuracy: 0.9381 - loss: 0.1603 - val_accuracy: 0.9271 - val_loss: 0.1935\n"
     ]
    }
   ],
   "source": [
    "history=Ann_model.fit(x_train_scaled,y_train,initial_epoch=15,epochs=50,validation_data=(x_test_scaled,y_test))"
   ]
  },
  {
   "cell_type": "code",
   "execution_count": 62,
   "metadata": {},
   "outputs": [
    {
     "data": {
      "text/html": [
       "<div>\n",
       "<style scoped>\n",
       "    .dataframe tbody tr th:only-of-type {\n",
       "        vertical-align: middle;\n",
       "    }\n",
       "\n",
       "    .dataframe tbody tr th {\n",
       "        vertical-align: top;\n",
       "    }\n",
       "\n",
       "    .dataframe thead th {\n",
       "        text-align: right;\n",
       "    }\n",
       "</style>\n",
       "<table border=\"1\" class=\"dataframe\">\n",
       "  <thead>\n",
       "    <tr style=\"text-align: right;\">\n",
       "      <th></th>\n",
       "      <th>accuracy</th>\n",
       "      <th>loss</th>\n",
       "      <th>val_accuracy</th>\n",
       "      <th>val_loss</th>\n",
       "    </tr>\n",
       "  </thead>\n",
       "  <tbody>\n",
       "    <tr>\n",
       "      <th>0</th>\n",
       "      <td>0.930108</td>\n",
       "      <td>0.184933</td>\n",
       "      <td>0.924582</td>\n",
       "      <td>0.193845</td>\n",
       "    </tr>\n",
       "    <tr>\n",
       "      <th>1</th>\n",
       "      <td>0.931278</td>\n",
       "      <td>0.183699</td>\n",
       "      <td>0.923589</td>\n",
       "      <td>0.193232</td>\n",
       "    </tr>\n",
       "    <tr>\n",
       "      <th>2</th>\n",
       "      <td>0.931278</td>\n",
       "      <td>0.182180</td>\n",
       "      <td>0.924865</td>\n",
       "      <td>0.195530</td>\n",
       "    </tr>\n",
       "    <tr>\n",
       "      <th>3</th>\n",
       "      <td>0.931349</td>\n",
       "      <td>0.181463</td>\n",
       "      <td>0.924440</td>\n",
       "      <td>0.189702</td>\n",
       "    </tr>\n",
       "    <tr>\n",
       "      <th>4</th>\n",
       "      <td>0.931668</td>\n",
       "      <td>0.179423</td>\n",
       "      <td>0.923022</td>\n",
       "      <td>0.196263</td>\n",
       "    </tr>\n",
       "    <tr>\n",
       "      <th>5</th>\n",
       "      <td>0.932873</td>\n",
       "      <td>0.178614</td>\n",
       "      <td>0.928268</td>\n",
       "      <td>0.191424</td>\n",
       "    </tr>\n",
       "    <tr>\n",
       "      <th>6</th>\n",
       "      <td>0.932518</td>\n",
       "      <td>0.178785</td>\n",
       "      <td>0.925291</td>\n",
       "      <td>0.194554</td>\n",
       "    </tr>\n",
       "    <tr>\n",
       "      <th>7</th>\n",
       "      <td>0.932695</td>\n",
       "      <td>0.177796</td>\n",
       "      <td>0.925007</td>\n",
       "      <td>0.193279</td>\n",
       "    </tr>\n",
       "    <tr>\n",
       "      <th>8</th>\n",
       "      <td>0.932412</td>\n",
       "      <td>0.176279</td>\n",
       "      <td>0.926566</td>\n",
       "      <td>0.190206</td>\n",
       "    </tr>\n",
       "    <tr>\n",
       "      <th>9</th>\n",
       "      <td>0.932837</td>\n",
       "      <td>0.174961</td>\n",
       "      <td>0.927275</td>\n",
       "      <td>0.190546</td>\n",
       "    </tr>\n",
       "    <tr>\n",
       "      <th>10</th>\n",
       "      <td>0.933192</td>\n",
       "      <td>0.174852</td>\n",
       "      <td>0.927842</td>\n",
       "      <td>0.191937</td>\n",
       "    </tr>\n",
       "    <tr>\n",
       "      <th>11</th>\n",
       "      <td>0.934290</td>\n",
       "      <td>0.172611</td>\n",
       "      <td>0.925149</td>\n",
       "      <td>0.192081</td>\n",
       "    </tr>\n",
       "    <tr>\n",
       "      <th>12</th>\n",
       "      <td>0.933440</td>\n",
       "      <td>0.173106</td>\n",
       "      <td>0.925574</td>\n",
       "      <td>0.192726</td>\n",
       "    </tr>\n",
       "    <tr>\n",
       "      <th>13</th>\n",
       "      <td>0.935212</td>\n",
       "      <td>0.171344</td>\n",
       "      <td>0.926425</td>\n",
       "      <td>0.193223</td>\n",
       "    </tr>\n",
       "    <tr>\n",
       "      <th>14</th>\n",
       "      <td>0.934609</td>\n",
       "      <td>0.170909</td>\n",
       "      <td>0.927701</td>\n",
       "      <td>0.192054</td>\n",
       "    </tr>\n",
       "    <tr>\n",
       "      <th>15</th>\n",
       "      <td>0.934964</td>\n",
       "      <td>0.169578</td>\n",
       "      <td>0.925999</td>\n",
       "      <td>0.197604</td>\n",
       "    </tr>\n",
       "    <tr>\n",
       "      <th>16</th>\n",
       "      <td>0.935354</td>\n",
       "      <td>0.170180</td>\n",
       "      <td>0.926850</td>\n",
       "      <td>0.186314</td>\n",
       "    </tr>\n",
       "    <tr>\n",
       "      <th>17</th>\n",
       "      <td>0.935035</td>\n",
       "      <td>0.169023</td>\n",
       "      <td>0.927275</td>\n",
       "      <td>0.189562</td>\n",
       "    </tr>\n",
       "    <tr>\n",
       "      <th>18</th>\n",
       "      <td>0.935673</td>\n",
       "      <td>0.168141</td>\n",
       "      <td>0.928268</td>\n",
       "      <td>0.192225</td>\n",
       "    </tr>\n",
       "    <tr>\n",
       "      <th>19</th>\n",
       "      <td>0.936275</td>\n",
       "      <td>0.167869</td>\n",
       "      <td>0.926425</td>\n",
       "      <td>0.190102</td>\n",
       "    </tr>\n",
       "    <tr>\n",
       "      <th>20</th>\n",
       "      <td>0.935673</td>\n",
       "      <td>0.166830</td>\n",
       "      <td>0.926708</td>\n",
       "      <td>0.194970</td>\n",
       "    </tr>\n",
       "    <tr>\n",
       "      <th>21</th>\n",
       "      <td>0.936523</td>\n",
       "      <td>0.166847</td>\n",
       "      <td>0.926992</td>\n",
       "      <td>0.192632</td>\n",
       "    </tr>\n",
       "    <tr>\n",
       "      <th>22</th>\n",
       "      <td>0.935637</td>\n",
       "      <td>0.166138</td>\n",
       "      <td>0.927134</td>\n",
       "      <td>0.192209</td>\n",
       "    </tr>\n",
       "    <tr>\n",
       "      <th>23</th>\n",
       "      <td>0.937409</td>\n",
       "      <td>0.165151</td>\n",
       "      <td>0.927417</td>\n",
       "      <td>0.191439</td>\n",
       "    </tr>\n",
       "    <tr>\n",
       "      <th>24</th>\n",
       "      <td>0.937586</td>\n",
       "      <td>0.164605</td>\n",
       "      <td>0.926850</td>\n",
       "      <td>0.193337</td>\n",
       "    </tr>\n",
       "    <tr>\n",
       "      <th>25</th>\n",
       "      <td>0.937870</td>\n",
       "      <td>0.164068</td>\n",
       "      <td>0.925432</td>\n",
       "      <td>0.198342</td>\n",
       "    </tr>\n",
       "    <tr>\n",
       "      <th>26</th>\n",
       "      <td>0.936807</td>\n",
       "      <td>0.164462</td>\n",
       "      <td>0.927134</td>\n",
       "      <td>0.197632</td>\n",
       "    </tr>\n",
       "    <tr>\n",
       "      <th>27</th>\n",
       "      <td>0.937267</td>\n",
       "      <td>0.163391</td>\n",
       "      <td>0.925716</td>\n",
       "      <td>0.195768</td>\n",
       "    </tr>\n",
       "    <tr>\n",
       "      <th>28</th>\n",
       "      <td>0.937693</td>\n",
       "      <td>0.161788</td>\n",
       "      <td>0.927701</td>\n",
       "      <td>0.190927</td>\n",
       "    </tr>\n",
       "    <tr>\n",
       "      <th>29</th>\n",
       "      <td>0.938047</td>\n",
       "      <td>0.161109</td>\n",
       "      <td>0.924865</td>\n",
       "      <td>0.197162</td>\n",
       "    </tr>\n",
       "    <tr>\n",
       "      <th>30</th>\n",
       "      <td>0.938366</td>\n",
       "      <td>0.160486</td>\n",
       "      <td>0.928835</td>\n",
       "      <td>0.192775</td>\n",
       "    </tr>\n",
       "    <tr>\n",
       "      <th>31</th>\n",
       "      <td>0.939181</td>\n",
       "      <td>0.160403</td>\n",
       "      <td>0.928551</td>\n",
       "      <td>0.191417</td>\n",
       "    </tr>\n",
       "    <tr>\n",
       "      <th>32</th>\n",
       "      <td>0.937338</td>\n",
       "      <td>0.159825</td>\n",
       "      <td>0.927984</td>\n",
       "      <td>0.193871</td>\n",
       "    </tr>\n",
       "    <tr>\n",
       "      <th>33</th>\n",
       "      <td>0.938614</td>\n",
       "      <td>0.160085</td>\n",
       "      <td>0.925291</td>\n",
       "      <td>0.195666</td>\n",
       "    </tr>\n",
       "    <tr>\n",
       "      <th>34</th>\n",
       "      <td>0.938437</td>\n",
       "      <td>0.159030</td>\n",
       "      <td>0.927134</td>\n",
       "      <td>0.193462</td>\n",
       "    </tr>\n",
       "  </tbody>\n",
       "</table>\n",
       "</div>"
      ],
      "text/plain": [
       "    accuracy      loss  val_accuracy  val_loss\n",
       "0   0.930108  0.184933      0.924582  0.193845\n",
       "1   0.931278  0.183699      0.923589  0.193232\n",
       "2   0.931278  0.182180      0.924865  0.195530\n",
       "3   0.931349  0.181463      0.924440  0.189702\n",
       "4   0.931668  0.179423      0.923022  0.196263\n",
       "5   0.932873  0.178614      0.928268  0.191424\n",
       "6   0.932518  0.178785      0.925291  0.194554\n",
       "7   0.932695  0.177796      0.925007  0.193279\n",
       "8   0.932412  0.176279      0.926566  0.190206\n",
       "9   0.932837  0.174961      0.927275  0.190546\n",
       "10  0.933192  0.174852      0.927842  0.191937\n",
       "11  0.934290  0.172611      0.925149  0.192081\n",
       "12  0.933440  0.173106      0.925574  0.192726\n",
       "13  0.935212  0.171344      0.926425  0.193223\n",
       "14  0.934609  0.170909      0.927701  0.192054\n",
       "15  0.934964  0.169578      0.925999  0.197604\n",
       "16  0.935354  0.170180      0.926850  0.186314\n",
       "17  0.935035  0.169023      0.927275  0.189562\n",
       "18  0.935673  0.168141      0.928268  0.192225\n",
       "19  0.936275  0.167869      0.926425  0.190102\n",
       "20  0.935673  0.166830      0.926708  0.194970\n",
       "21  0.936523  0.166847      0.926992  0.192632\n",
       "22  0.935637  0.166138      0.927134  0.192209\n",
       "23  0.937409  0.165151      0.927417  0.191439\n",
       "24  0.937586  0.164605      0.926850  0.193337\n",
       "25  0.937870  0.164068      0.925432  0.198342\n",
       "26  0.936807  0.164462      0.927134  0.197632\n",
       "27  0.937267  0.163391      0.925716  0.195768\n",
       "28  0.937693  0.161788      0.927701  0.190927\n",
       "29  0.938047  0.161109      0.924865  0.197162\n",
       "30  0.938366  0.160486      0.928835  0.192775\n",
       "31  0.939181  0.160403      0.928551  0.191417\n",
       "32  0.937338  0.159825      0.927984  0.193871\n",
       "33  0.938614  0.160085      0.925291  0.195666\n",
       "34  0.938437  0.159030      0.927134  0.193462"
      ]
     },
     "execution_count": 62,
     "metadata": {},
     "output_type": "execute_result"
    }
   ],
   "source": [
    "import pandas as pd \n",
    "training_details=pd.DataFrame(history.history)\n",
    "training_details"
   ]
  },
  {
   "cell_type": "code",
   "execution_count": 63,
   "metadata": {},
   "outputs": [
    {
     "data": {
      "text/plain": [
       "<Axes: >"
      ]
     },
     "execution_count": 63,
     "metadata": {},
     "output_type": "execute_result"
    },
    {
     "data": {
      "image/png": "[encoded data removed]",
      "text/plain": [
       "<Figure size 640x480 with 1 Axes>"
      ]
     },
     "metadata": {},
     "output_type": "display_data"
    }
   ],
   "source": [
    "training_details.plot()"
   ]
  },
  {
   "cell_type": "code",
   "execution_count": 64,
   "metadata": {},
   "outputs": [
    {
     "data": {
      "text/plain": [
       "<Axes: >"
      ]
     },
     "execution_count": 64,
     "metadata": {},
     "output_type": "execute_result"
    },
    {
     "data": {
      "image/png": "[encoded data removed]",
      "text/plain": [
       "<Figure size 640x480 with 1 Axes>"
      ]
     },
     "metadata": {},
     "output_type": "display_data"
    }
   ],
   "source": [
    "training_details[['accuracy','val_accuracy']].plot()"
   ]
  },
  {
   "cell_type": "code",
   "execution_count": 65,
   "metadata": {},
   "outputs": [
    {
     "name": "stderr",
     "output_type": "stream",
     "text": [
      "WARNING:absl:You are saving your model as an HDF5 file via `model.save()` or `keras.saving.save_model(model)`. This file format is considered legacy. We recommend using instead the native Keras format, e.g. `model.save('my_model.keras')` or `keras.saving.save_model(model, 'my_model.keras')`. \n",
      "WARNING:absl:Compiled the loaded model, but the compiled metrics have yet to be built. `model.compile_metrics` will be empty until you train or evaluate the model.\n"
     ]
    }
   ],
   "source": [
    "Ann_model.save('custom_satisfaction.h5')\n",
    "Ann_model=load_model('custom_satisfaction.h5')"
   ]
  },
  {
   "cell_type": "code",
   "execution_count": 66,
   "metadata": {},
   "outputs": [
    {
     "name": "stdout",
     "output_type": "stream",
     "text": [
      "\u001b[1m221/221\u001b[0m \u001b[32m━━━━━━━━━━━━━━━━━━━━\u001b[0m\u001b[37m\u001b[0m \u001b[1m1s\u001b[0m 3ms/step\n"
     ]
    },
    {
     "data": {
      "text/plain": [
       "array([0, 1, 1, ..., 1, 0, 0])"
      ]
     },
     "execution_count": 66,
     "metadata": {},
     "output_type": "execute_result"
    }
   ],
   "source": [
    "y_pred=Ann_model.predict(x_test_scaled)\n",
    "prediction_label=(y_pred>0.5).astype('int').ravel()\n",
    "prediction_label"
   ]
  },
  {
   "cell_type": "code",
   "execution_count": 67,
   "metadata": {},
   "outputs": [
    {
     "data": {
      "image/png": "[encoded data removed]",
      "text/plain": [
       "<Figure size 640x480 with 2 Axes>"
      ]
     },
     "metadata": {},
     "output_type": "display_data"
    }
   ],
   "source": [
    "cm=confusion_matrix(prediction_label,y_test)\n",
    "sb.heatmap(cm,annot=True,fmt='d',cmap='Blues')\n",
    "plt.xlabel(\"prediction label\")\n",
    "plt.ylabel(\"true label\")\n",
    "plt.title(\"confusion matrix between prediction label and true label\")\n",
    "plt.show()"
   ]
  },
  {
   "cell_type": "code",
   "execution_count": 68,
   "metadata": {},
   "outputs": [
    {
     "name": "stdout",
     "output_type": "stream",
     "text": [
      "              precision    recall  f1-score   support\n",
      "\n",
      "           0       0.95      0.92      0.93      3895\n",
      "           1       0.91      0.94      0.92      3159\n",
      "\n",
      "    accuracy                           0.93      7054\n",
      "   macro avg       0.93      0.93      0.93      7054\n",
      "weighted avg       0.93      0.93      0.93      7054\n",
      "\n"
     ]
    }
   ],
   "source": [
    "from sklearn.metrics import classification_report\n",
    "\n",
    "print(classification_report(prediction_label,y_test))"
   ]
  }
 ],
 "metadata": {
  "kernelspec": {
   "display_name": "Python 3",
   "language": "python",
   "name": "python3"
  },
  "language_info": {
   "codemirror_mode": {
    "name": "ipython",
    "version": 3
   },
   "file_extension": ".py",
   "mimetype": "text/x-python",
   "name": "python",
   "nbconvert_exporter": "python",
   "pygments_lexer": "ipython3",
   "version": "3.12.1"
  }
 },
 "nbformat": 4,
 "nbformat_minor": 2
}
