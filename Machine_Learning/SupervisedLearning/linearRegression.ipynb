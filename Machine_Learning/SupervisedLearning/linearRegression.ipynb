{
 "cells": [
  {
   "cell_type": "markdown",
   "metadata": {},
   "source": [
    "# single linear regression "
   ]
  },
  {
   "cell_type": "markdown",
   "metadata": {},
   "source": [
    "## y = nx + c\n",
    "### here n is the slope and  c is intersect "
   ]
  },
  {
   "cell_type": "markdown",
   "metadata": {},
   "source": [
    "#formula of single linear regression\n",
    "## y = a0 + a1x + E\n",
    "### here a0 is intersect and a1 is the linear regression coffiecient and E is random error \n",
    "### and y is the dependent variable and x is the independent vaiable\n"
   ]
  },
  {
   "cell_type": "markdown",
   "metadata": {},
   "source": [
    "# MSE = 1/n E[yi - (bixi + a)]\n",
    "## here MSE is the MeanSquareError \n",
    "### n is no. of observation \n",
    "### and (bixi + a ) is the predicted value\n",
    "\n"
   ]
  },
  {
   "cell_type": "markdown",
   "metadata": {},
   "source": []
  },
  {
   "cell_type": "markdown",
   "metadata": {},
   "source": [
    "#    Multiple Regression\n",
    "\n",
    "### y = a0 + a1x + a2x^2 +..... anx^n\n",
    "\n",
    "#### here a0 , a1, a2 ..... an is the linear regression \n",
    "#### x is the  independent variable \n",
    "#### y is the dependent variable "
   ]
  },
  {
   "cell_type": "markdown",
   "metadata": {},
   "source": [
    "# R-square method \n",
    "## here this method observe the strength of x and y variable \n",
    "### Rsq = Explained variation/total variation\n",
    "#### Rsq varies between  from 0 to 100"
   ]
  }
 ],
 "metadata": {
  "language_info": {
   "name": "python"
  }
 },
 "nbformat": 4,
 "nbformat_minor": 2
}
